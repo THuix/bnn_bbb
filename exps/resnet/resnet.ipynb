{
 "cells": [
  {
   "cell_type": "code",
   "execution_count": 2,
   "metadata": {},
   "outputs": [],
   "source": [
    "import torch\n",
    "import os\n",
    "import sys\n",
    "import os\n",
    "import numpy as np\n",
    "from torch import nn\n",
    "import torchmetrics\n",
    "from torchvision.datasets import MNIST, CIFAR10\n",
    "from torchvision import transforms\n",
    "import matplotlib.pyplot as plt\n",
    "from torch.utils.data import DataLoader\n",
    "from torchvision.transforms import Compose \n",
    "from scipy.special import softmax\n",
    "from tqdm import tqdm\n",
    "sys.path.insert(0,'../../utils')\n",
    "from models import Resnet_regime_3\n",
    "from model_resnet import Resnet20_classic"
   ]
  },
  {
   "cell_type": "code",
   "execution_count": 2,
   "metadata": {},
   "outputs": [],
   "source": [
    "model_1 = Resnet_regime_3.load_from_checkpoint(\"bnn_1.ckpt\")\n",
    "model_01 = Resnet_regime_3.load_from_checkpoint(\"bnn_01.ckpt\")\n",
    "model_001 = Resnet_regime_3.load_from_checkpoint(\"bnn_001.ckpt\")\n",
    "model_10 = Resnet_regime_3.load_from_checkpoint(\"bnn_10.ckpt\")\n",
    "model_100 = Resnet_regime_3.load_from_checkpoint(\"bnn_100.ckpt\")\n",
    "#model_500 = Resnet_regime_3.load_from_checkpoint(\"bnn_500.ckpt\")\n",
    "model_1000 = Resnet_regime_3.load_from_checkpoint(\"bnn_1000.ckpt\")\n",
    "model_0001 = Resnet_regime_3.load_from_checkpoint(\"bnn_0001.ckpt\")"
   ]
  },
  {
   "cell_type": "code",
   "execution_count": 3,
   "metadata": {},
   "outputs": [],
   "source": [
    "nn_1 = Resnet20_classic.load_from_checkpoint(\"nn_1.ckpt\")\n",
    "nn_01 = Resnet20_classic.load_from_checkpoint(\"nn_01.ckpt\")\n",
    "nn_001 = Resnet20_classic.load_from_checkpoint(\"nn_001.ckpt\")\n",
    "nn_10 = Resnet20_classic.load_from_checkpoint(\"nn_10.ckpt\")\n",
    "nn_100 = Resnet20_classic.load_from_checkpoint(\"nn_100.ckpt\")\n",
    "#nn_500 = Resnet20_classic.load_from_checkpoint(\"nn_500.ckpt\")\n",
    "nn_1000 = Resnet20_classic.load_from_checkpoint(\"nn_1000.ckpt\")\n",
    "nn_0001 = Resnet20_classic.load_from_checkpoint(\"nn_0001.ckpt\")"
   ]
  },
  {
   "cell_type": "code",
   "execution_count": 4,
   "metadata": {},
   "outputs": [
    {
     "name": "stdout",
     "output_type": "stream",
     "text": [
      "Files already downloaded and verified\n"
     ]
    }
   ],
   "source": [
    "batch_size = 10\n",
    "num_works= 0\n",
    "test_transform = Compose([\n",
    "            transforms.ToTensor(),\n",
    "            transforms.Normalize((0.4914, 0.4822, 0.4465), (0.2023, 0.1994, 0.2010))\n",
    "        ])\n",
    "val_dataset = CIFAR10('../', download=True, transform=test_transform, train=False)\n",
    "val_loader = DataLoader(val_dataset, batch_size=batch_size, shuffle=True, num_workers=num_works)"
   ]
  },
  {
   "cell_type": "code",
   "execution_count": 5,
   "metadata": {},
   "outputs": [],
   "source": [
    "def compute(model, dataset, device, nb_samples):\n",
    "    acc, ece, nll, conf = 0, 0, 0, 0\n",
    "    batch_size = 10\n",
    "    results = torch.empty(len(dataset), batch_size, nb_samples, 10).to(device)\n",
    "    labels = torch.empty(len(dataset), batch_size)\n",
    "    for batch_idx, (x, y) in enumerate(tqdm(dataset)):\n",
    "        x = x.to(device)\n",
    "        y = y.to(device)\n",
    "        labels[batch_idx, :] = y\n",
    "        for idx in range(nb_samples):\n",
    "            results[batch_idx, :, idx, :] = model(x).softmax(dim=1)\n",
    "    return results.detach().cpu(), labels.detach().cpu()"
   ]
  },
  {
   "cell_type": "code",
   "execution_count": 6,
   "metadata": {},
   "outputs": [],
   "source": [
    "models = [\n",
    "        (0.001, model_0001, nn_0001),\n",
    "        (0.01, model_001, nn_001),\n",
    "        (0.1, model_01, nn_01),\n",
    "        (1., model_1, nn_1),\n",
    "        (10, model_10, nn_10),\n",
    "        (100, model_100, nn_100),\n",
    "        (500, model_1000, nn_1000)]"
   ]
  },
  {
   "cell_type": "code",
   "execution_count": null,
   "metadata": {},
   "outputs": [
    {
     "name": "stderr",
     "output_type": "stream",
     "text": [
      "  0%|                                                                                         | 0/1000 [00:00<?, ?it/s]"
     ]
    },
    {
     "name": "stdout",
     "output_type": "stream",
     "text": [
      "0.001 541812\n"
     ]
    },
    {
     "name": "stderr",
     "output_type": "stream",
     "text": [
      " 66%|███████████████████████████████████████████████████▉                           | 657/1000 [08:20<06:47,  1.19s/it]"
     ]
    }
   ],
   "source": [
    "eta_list, results_list, results_nn_list = [], [], []\n",
    "for eta, model, model_nn in models:\n",
    "    print(eta, model.model_params['w'])\n",
    "    results, labels = compute(model, val_loader, torch.device('cpu'), 3)\n",
    "    results_nn, labels_nn = compute(model_nn, val_loader, torch.device('cpu'), 1)\n",
    "    eta_list.append(eta)\n",
    "    results_list.append((results, labels))\n",
    "    results_nn_list.append((results_nn, labels_nn))\n"
   ]
  },
  {
   "cell_type": "code",
   "execution_count": null,
   "metadata": {},
   "outputs": [],
   "source": []
  },
  {
   "cell_type": "code",
   "execution_count": 172,
   "metadata": {},
   "outputs": [],
   "source": [
    "ECE = torchmetrics.CalibrationError(n_bins=15, norm='l1')\n",
    "accuracy = torchmetrics.Accuracy()\n",
    "criterion = nn.CrossEntropyLoss(reduction='mean')\n",
    "\n",
    "def get_acc(pred, true):\n",
    "    accuracy.update(pred, true)\n",
    "    acc = accuracy.compute()\n",
    "    accuracy.reset()\n",
    "    return acc.item()\n",
    "\n",
    "def get_ece(pred, true):\n",
    "    ECE.update(pred, true)\n",
    "    ece = ECE.compute()\n",
    "    ECE.reset()\n",
    "    return ece.item()\n",
    "    \n",
    "def get_nll(pred, true):\n",
    "    return criterion(pred, true).item()\n",
    "\n",
    "def get_conf(pred, true):\n",
    "    conf = torch.max(pred.softmax(dim=1), dim=1).values.mean().item()\n",
    "    return conf\n",
    "\n",
    "def export(results, labels):\n",
    "    flattened_result = results.flatten(0, 1) # nb points samples, 10\n",
    "    flattened_label = labels.flatten().long()\n",
    "    nb_samples = flattened_result.size()[1]\n",
    "    acc = [get_acc(flattened_result[:, idx, :], flattened_label) for idx in range(nb_samples)]\n",
    "    ece = [get_ece(flattened_result[:, idx, :], flattened_label) for idx in range(nb_samples)]\n",
    "    nll  =[get_nll(flattened_result[:, idx, :], flattened_label) for idx in range(nb_samples)]\n",
    "    conf = [get_conf(flattened_result[:, idx, :], flattened_label) for idx in range(nb_samples)]\n",
    "    avg_result = torch.mean(flattened_result, dim=1)\n",
    "    print(get_acc(avg_result, flattened_label))\n",
    "    return acc, ece, nll, conf\n",
    "\n",
    "def export_all(results_list):\n",
    "    acc_list, ece_list, nll_list, conf_list = [], [], [], []\n",
    "    for (results, labels) in results_list:\n",
    "        acc, ece, nll, conf = export(results, labels)\n",
    "        acc_list.append((np.mean(acc), np.std(acc)))\n",
    "        ece_list.append((np.mean(ece), np.std(ece)))\n",
    "        nll_list.append((np.mean(nll), np.std(nll)))\n",
    "        conf_list.append((np.mean(conf), np.std(conf)))\n",
    "    return np.array(acc_list), np.array(ece_list), np.array(nll_list), np.array(conf_list)       \n",
    "        \n",
    "        "
   ]
  },
  {
   "cell_type": "code",
   "execution_count": 173,
   "metadata": {},
   "outputs": [],
   "source": [
    "import pickle as pkl\n",
    "results = pkl.load(open('results.pkl', 'rb'))\n",
    "eta_list = results['eta_list']\n",
    "results_list = results['results_list']\n",
    "results_nn_list = results['results_nn_list']"
   ]
  },
  {
   "cell_type": "code",
   "execution_count": 174,
   "metadata": {},
   "outputs": [
    {
     "data": {
      "text/plain": [
       "50"
      ]
     },
     "execution_count": 174,
     "metadata": {},
     "output_type": "execute_result"
    }
   ],
   "source": [
    "len(results_list[0][0])"
   ]
  },
  {
   "cell_type": "code",
   "execution_count": 175,
   "metadata": {},
   "outputs": [],
   "source": [
    "batch_size = 200"
   ]
  },
  {
   "cell_type": "code",
   "execution_count": 176,
   "metadata": {},
   "outputs": [
    {
     "name": "stdout",
     "output_type": "stream",
     "text": [
      "0.8328999876976013\n",
      "0.8131999969482422\n",
      "0.8450000286102295\n",
      "0.8475000262260437\n",
      "0.7960000038146973\n",
      "0.4099000096321106\n",
      "0.10249999910593033\n",
      "0.8597999811172485\n",
      "0.8671000003814697\n",
      "0.8593999743461609\n",
      "0.8623999953269958\n",
      "0.8567000031471252\n",
      "0.8598999977111816\n",
      "0.8608999848365784\n"
     ]
    }
   ],
   "source": [
    "acc_bnn, ece_bnn, nll_bnn, conf_bnn = export_all(results_list)\n",
    "acc_nn, ece_nn, nll_nn, conf_nn = export_all(results_nn_list)"
   ]
  },
  {
   "cell_type": "code",
   "execution_count": 148,
   "metadata": {},
   "outputs": [],
   "source": [
    "def plot(x, y, y_nn, title):\n",
    "    plt.plot(x, y[:, 0], '-o', label='BNN')\n",
    "    ci = 1.96 * y[:, 1] / len(y)\n",
    "    plt.fill_between(x, (y[:, 0]-ci), (y[:, 0]+ci), color='r', alpha=0.5)\n",
    "    plt.plot(x, y_nn[:, 0], '-o', label='NN')\n",
    "    plt.xscale('log')\n",
    "    plt.legend()\n",
    "    plt.title(title)\n",
    "    plt.show()"
   ]
  },
  {
   "cell_type": "code",
   "execution_count": 149,
   "metadata": {},
   "outputs": [
    {
     "data": {
      "image/png": "[encoded data removed]",
      "text/plain": [
       "<Figure size 432x288 with 1 Axes>"
      ]
     },
     "metadata": {
      "needs_background": "light"
     },
     "output_type": "display_data"
    }
   ],
   "source": [
    "plot(eta_list, acc_bnn, acc_nn, 'Accuracy')"
   ]
  },
  {
   "cell_type": "code",
   "execution_count": 151,
   "metadata": {},
   "outputs": [
    {
     "data": {
      "image/png": "[encoded data removed]",
      "text/plain": [
       "<Figure size 432x288 with 1 Axes>"
      ]
     },
     "metadata": {
      "needs_background": "light"
     },
     "output_type": "display_data"
    }
   ],
   "source": [
    "plot(eta_list, ece_bnn, ece_nn, 'ECE')"
   ]
  },
  {
   "cell_type": "code",
   "execution_count": null,
   "metadata": {},
   "outputs": [],
   "source": []
  }
 ],
 "metadata": {
  "kernelspec": {
   "display_name": "Python 3",
   "language": "python",
   "name": "python3"
  },
  "language_info": {
   "codemirror_mode": {
    "name": "ipython",
    "version": 3
   },
   "file_extension": ".py",
   "mimetype": "text/x-python",
   "name": "python",
   "nbconvert_exporter": "python",
   "pygments_lexer": "ipython3",
   "version": "3.8.5"
  }
 },
 "nbformat": 4,
 "nbformat_minor": 4
}
