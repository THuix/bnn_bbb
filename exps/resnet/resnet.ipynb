{
 "cells": [
  {
   "cell_type": "code",
   "execution_count": 1,
   "metadata": {},
   "outputs": [],
   "source": [
    "import torch\n",
    "import os\n",
    "import sys\n",
    "import os\n",
    "import numpy as np\n",
    "from torch import nn\n",
    "import torchmetrics\n",
    "from torchvision.datasets import MNIST, CIFAR10\n",
    "from torchvision import transforms\n",
    "import matplotlib.pyplot as plt\n",
    "from torch.utils.data import DataLoader\n",
    "from torchvision.transforms import Compose \n",
    "from scipy.special import softmax\n",
    "from tqdm import tqdm\n",
    "sys.path.insert(0,'../../bnn_bbb/utils')\n",
    "from models import Resnet_regime_3\n",
    "from model_resnet import Resnet20_classic"
   ]
  },
  {
   "cell_type": "code",
   "execution_count": 2,
   "metadata": {},
   "outputs": [],
   "source": [
    "model_1 = Resnet_regime_3.load_from_checkpoint(\"../../explotation/resnet/bnn_1.ckpt\")\n",
    "model_01 = Resnet_regime_3.load_from_checkpoint(\"../../explotation/resnet/bnn_01.ckpt\")\n",
    "model_001 = Resnet_regime_3.load_from_checkpoint(\"../../explotation/resnet/bnn_001.ckpt\")\n",
    "#model_10 = Resnet_regime_3.load_from_checkpoint(\"../../explotation/resnet/bnn_10.ckpt\")\n",
    "model_100 = Resnet_regime_3.load_from_checkpoint(\"../../explotation/resnet/bnn_100.ckpt\")\n",
    "model_500 = Resnet_regime_3.load_from_checkpoint(\"../../explotation/resnet/bnn_500.ckpt\")\n",
    "#model_1000 = Resnet_regime_3.load_from_checkpoint(\"../../explotation/output/linear_bnn_1000.ckpt\")\n",
    "# model_0001 = Resnet_regime_3.load_from_checkpoint(\"../../explotation/output/linear_bnn_0001.ckpt\")"
   ]
  },
  {
   "cell_type": "code",
   "execution_count": null,
   "metadata": {},
   "outputs": [],
   "source": []
  },
  {
   "cell_type": "code",
   "execution_count": 3,
   "metadata": {},
   "outputs": [
    {
     "name": "stdout",
     "output_type": "stream",
     "text": [
      "Files already downloaded and verified\n"
     ]
    }
   ],
   "source": [
    "batch_size = 600\n",
    "num_works= 0\n",
    "test_transform = Compose([\n",
    "            transforms.ToTensor(),\n",
    "            transforms.Normalize((0.4914, 0.4822, 0.4465), (0.2023, 0.1994, 0.2010))\n",
    "        ])\n",
    "val_dataset = CIFAR10('../', download=True, transform=test_transform, train=False)\n",
    "val_loader = DataLoader(val_dataset, batch_size=batch_size, shuffle=True, num_workers=num_works)"
   ]
  },
  {
   "cell_type": "code",
   "execution_count": 4,
   "metadata": {},
   "outputs": [],
   "source": [
    "nb_samples = 1\n",
    "\n",
    "ECE = torchmetrics.CalibrationError(n_bins=15, norm='l1')  \n",
    "accuracy = torchmetrics.Accuracy()  \n",
    "criterion = nn.CrossEntropyLoss(reduction='mean')\n",
    "\n",
    "def compute(model, dataset):\n",
    "    acc, ece, nll, conf = 0, 0, 0, 0\n",
    "    for x, y in dataset:\n",
    "        pred = torch.empty(nb_samples, x.size()[0], 10)\n",
    "        for idx in range(nb_samples):\n",
    "            pred[idx, :] = model(x).softmax(dim=1)\n",
    "            \n",
    "        avg_pred = pred.mean(dim=0)\n",
    "        pred_prob = avg_pred[range(avg_pred.size()[0]), y]\n",
    "        nll += - torch.log(pred_prob).mean()\n",
    "        \n",
    "        accuracy.update(avg_pred, y)\n",
    "        acc += accuracy.compute().item()\n",
    "        \n",
    "        ECE.update(avg_pred, y)\n",
    "        ece += ECE.compute().item()\n",
    "        \n",
    "        conf += pred_prob.mean()\n",
    "        \n",
    "        ECE.reset()\n",
    "        accuracy.reset()\n",
    "    return acc/len(dataset), ece / len(dataset), nll / len(dataset), conf / len(dataset)\n",
    "    "
   ]
  },
  {
   "cell_type": "code",
   "execution_count": 5,
   "metadata": {},
   "outputs": [],
   "source": [
    "models = [(0.01, model_001),\n",
    "         (0.1, model_01),\n",
    "         (1., model_1),\n",
    "         (100, model_100),\n",
    "         (500, model_500)]"
   ]
  },
  {
   "cell_type": "code",
   "execution_count": null,
   "metadata": {},
   "outputs": [
    {
     "name": "stderr",
     "output_type": "stream",
     "text": [
      "  0%|                                                                                            | 0/5 [00:00<?, ?it/s]"
     ]
    },
    {
     "name": "stdout",
     "output_type": "stream",
     "text": [
      "0.01 541812\n"
     ]
    }
   ],
   "source": [
    "eta_list, acc_list, ece_list, nll_list, p_list = [], [], [], [], []\n",
    "eta_list_nn, acc_list_nn, ece_list_nn, nll_list_nn, p_list_nn = [], [], [], [], []\n",
    "for eta, model in tqdm(models):\n",
    "    print(eta, model.model_params['w'])\n",
    "    acc, ece, nll, p = compute(model, val_loader)\n",
    "#     acc_nn, ece_nn, nll_nn, p_nn = compute(nn, val_loader)\n",
    "    eta_list.append(eta)\n",
    "    ece_list.append(ece)\n",
    "    acc_list.append(acc)\n",
    "    nll_list.append(nll)\n",
    "    p_list.append(p)\n",
    "    del model"
   ]
  },
  {
   "cell_type": "code",
   "execution_count": null,
   "metadata": {},
   "outputs": [],
   "source": [
    "plt.plot(eta_list, acc_list, '-o', label='BNN')\n",
    "plt.plot(eta_list, acc_list_nn, '-o', label='NN')\n",
    "plt.xscale('log')\n",
    "plt.legend()\n",
    "plt.show()\n",
    "print(eta_list[np.argmax(acc_list)])"
   ]
  },
  {
   "cell_type": "code",
   "execution_count": null,
   "metadata": {},
   "outputs": [],
   "source": [
    "plt.plot(eta_list, ece_list, '-o', label='BNN')\n",
    "plt.plot(eta_list, ece_list_nn, '-o', label='NN')\n",
    "plt.xscale('log')\n",
    "plt.legend()\n",
    "plt.show()\n",
    "print(eta_list[np.argmin(ece_list)])"
   ]
  },
  {
   "cell_type": "code",
   "execution_count": null,
   "metadata": {},
   "outputs": [],
   "source": [
    "plt.plot(eta_list, p_list, '-o', label='BNN')\n",
    "plt.plot(eta_list, p_list_nn, '-o', label='NN')\n",
    "plt.xscale('log')\n",
    "plt.legend()\n",
    "plt.show()\n",
    "print(eta_list[np.argmin(p_list)])"
   ]
  },
  {
   "cell_type": "code",
   "execution_count": null,
   "metadata": {},
   "outputs": [],
   "source": [
    "plt.plot(eta_list, nll_list, '-o', label='BNN')\n",
    "plt.plot(eta_list, nll_list_nn, '-o', label='NN')\n",
    "plt.xscale('log')\n",
    "plt.legend()\n",
    "plt.show()\n",
    "print(eta_list[np.argmin(nll_list)])"
   ]
  },
  {
   "cell_type": "code",
   "execution_count": 2,
   "metadata": {},
   "outputs": [],
   "source": [
    "import pickle as pkl\n",
    "results = pkl.load(open('results.pkl', 'rb'))\n"
   ]
  },
  {
   "cell_type": "code",
   "execution_count": 5,
   "metadata": {},
   "outputs": [],
   "source": [
    "import matplotlib.pyplot as plt\n",
    "eta = results['eta_list']"
   ]
  },
  {
   "cell_type": "code",
   "execution_count": 8,
   "metadata": {},
   "outputs": [
    {
     "data": {
      "image/png": "[encoded data removed]",
      "text/plain": [
       "<Figure size 432x288 with 1 Axes>"
      ]
     },
     "metadata": {
      "needs_background": "light"
     },
     "output_type": "display_data"
    }
   ],
   "source": [
    "plt.plot(eta, results['acc_list'], '-o', label='BNN')\n",
    "plt.xscale('log')\n",
    "plt.legend()\n",
    "plt.title('Accuracy')\n",
    "plt.show()"
   ]
  }
 ],
 "metadata": {
  "kernelspec": {
   "display_name": "Python 3",
   "language": "python",
   "name": "python3"
  },
  "language_info": {
   "codemirror_mode": {
    "name": "ipython",
    "version": 3
   },
   "file_extension": ".py",
   "mimetype": "text/x-python",
   "name": "python",
   "nbconvert_exporter": "python",
   "pygments_lexer": "ipython3",
   "version": "3.8.5"
  }
 },
 "nbformat": 4,
 "nbformat_minor": 4
}
